{
 "cells": [
  {
   "cell_type": "code",
   "execution_count": 48,
   "metadata": {
    "collapsed": false
   },
   "outputs": [],
   "source": [
    "%run imports.py"
   ]
  },
  {
   "cell_type": "code",
   "execution_count": 49,
   "metadata": {
    "collapsed": false
   },
   "outputs": [],
   "source": [
    "x = Bidirectional_Ring(10)"
   ]
  },
  {
   "cell_type": "code",
   "execution_count": 50,
   "metadata": {
    "collapsed": false
   },
   "outputs": [
    {
     "data": {
      "image/png": "[encoded data removed]",
      "text/plain": [
       "<matplotlib.figure.Figure at 0x10da44e10>"
      ]
     },
     "metadata": {},
     "output_type": "display_data"
    }
   ],
   "source": [
    "x.draw()"
   ]
  },
  {
   "cell_type": "code",
   "execution_count": 51,
   "metadata": {
    "collapsed": false
   },
   "outputs": [
    {
     "data": {
      "text/plain": [
       "[('P2', {'n': 10}),\n",
       " ('P6', {'n': 10}),\n",
       " ('P4', {'n': 10}),\n",
       " ('P5', {'n': 10}),\n",
       " ('P9', {'n': 10}),\n",
       " ('P3', {'n': 10}),\n",
       " ('P7', {'n': 10}),\n",
       " ('P0', {'n': 10}),\n",
       " ('P1', {'n': 10}),\n",
       " ('P8', {'n': 10})]"
      ]
     },
     "execution_count": 51,
     "metadata": {},
     "output_type": "execute_result"
    }
   ],
   "source": [
    "x.state()"
   ]
  },
  {
   "cell_type": "code",
   "execution_count": 52,
   "metadata": {
    "collapsed": false
   },
   "outputs": [
    {
     "name": "stdout",
     "output_type": "stream",
     "text": [
      "------------------------------\n",
      "Running SynchVariableSpeeds on\n",
      "[P2 -> {P6, P8}, P6 -> {P4, P2}, P4 -> {P5, P6}, P5 -> {P9, P4}, P9 -> {P3, P5}, P3 -> {P7, P9}, P7 -> {P0, P3}, P0 -> {P1, P7}, P1 -> {P8, P0}, P8 -> {P2, P1}]\n",
      "Round 1\n",
      "Round 2\n",
      "Round 3\n",
      "Round 4\n",
      "Round 5\n",
      "Round 6\n",
      "Round 7\n",
      "Round 8\n",
      "Round 9\n",
      "Round 10\n",
      "P0.status is leader\n",
      "Round 11\n",
      "P7.status is non-leader\n",
      "Round 12\n",
      "P3.status is non-leader\n",
      "Round 13\n",
      "P9.status is non-leader\n",
      "Round 14\n",
      "P5.status is non-leader\n",
      "Round 15\n",
      "P4.status is non-leader\n",
      "Round 16\n",
      "P6.status is non-leader\n",
      "Round 17\n",
      "P2.status is non-leader\n",
      "Round 18\n",
      "P8.status is non-leader\n",
      "Round 19\n",
      "P1.status is non-leader\n",
      "Round 20\n",
      "SynchVariableSpeeds Terminated\n",
      "Message Complexity: 23\n",
      "Time Complexity: 20\n",
      "-------------------\n"
     ]
    },
    {
     "data": {
      "text/plain": [
       "<datk.core.algs.SynchVariableSpeeds instance at 0x10a2606c8>"
      ]
     },
     "execution_count": 52,
     "metadata": {},
     "output_type": "execute_result"
    }
   ],
   "source": [
    "SynchHirs(x)"
   ]
  },
  {
   "cell_type": "code",
   "execution_count": 53,
   "metadata": {
    "collapsed": false
   },
   "outputs": [
    {
     "data": {
      "image/png": "[encoded data removed]",
      "text/plain": [
       "<matplotlib.figure.Figure at 0x10d5a0c10>"
      ]
     },
     "metadata": {},
     "output_type": "display_data"
    }
   ],
   "source": [
    "x.draw()"
   ]
  },
  {
   "cell_type": "code",
   "execution_count": 54,
   "metadata": {
    "collapsed": false
   },
   "outputs": [
    {
     "data": {
      "text/plain": [
       "[('P2', {'n': 10, 'status': 'non-leader'}),\n",
       " ('P6', {'n': 10, 'status': 'non-leader'}),\n",
       " ('P4', {'n': 10, 'status': 'non-leader'}),\n",
       " ('P5', {'n': 10, 'status': 'non-leader'}),\n",
       " ('P9', {'n': 10, 'status': 'non-leader'}),\n",
       " ('P3', {'n': 10, 'status': 'non-leader'}),\n",
       " ('P7', {'n': 10, 'status': 'non-leader'}),\n",
       " ('P0', {'n': 10, 'status': 'leader'}),\n",
       " ('P1', {'n': 10, 'status': 'non-leader'}),\n",
       " ('P8', {'n': 10, 'status': 'non-leader'})]"
      ]
     },
     "execution_count": 54,
     "metadata": {},
     "output_type": "execute_result"
    }
   ],
   "source": [
    "x.state()"
   ]
  },
  {
   "cell_type": "code",
   "execution_count": 55,
   "metadata": {
    "collapsed": false
   },
   "outputs": [],
   "source": [
    "assertLeaderElection(x)"
   ]
  },
  {
   "cell_type": "code",
   "execution_count": null,
   "metadata": {
    "collapsed": false
   },
   "outputs": [],
   "source": []
  },
  {
   "cell_type": "code",
   "execution_count": null,
   "metadata": {
    "collapsed": true
   },
   "outputs": [],
   "source": []
  }
 ],
 "metadata": {
  "kernelspec": {
   "display_name": "Python 2",
   "language": "python",
   "name": "python2"
  },
  "language_info": {
   "codemirror_mode": {
    "name": "ipython",
    "version": 2
   },
   "file_extension": ".py",
   "mimetype": "text/x-python",
   "name": "python",
   "nbconvert_exporter": "python",
   "pygments_lexer": "ipython2",
   "version": "2.7.11"
  }
 },
 "nbformat": 4,
 "nbformat_minor": 0
}
