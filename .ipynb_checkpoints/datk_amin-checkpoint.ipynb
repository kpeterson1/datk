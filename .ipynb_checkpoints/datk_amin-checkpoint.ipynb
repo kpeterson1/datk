{
 "cells": [
  {
   "cell_type": "code",
   "execution_count": 32,
   "metadata": {
    "collapsed": false
   },
   "outputs": [],
   "source": [
    "%run imports.py"
   ]
  },
  {
   "cell_type": "code",
   "execution_count": 33,
   "metadata": {
    "collapsed": false
   },
   "outputs": [],
   "source": [
    "x = Bidirectional_Ring(10)"
   ]
  },
  {
   "cell_type": "code",
   "execution_count": 34,
   "metadata": {
    "collapsed": false
   },
   "outputs": [
    {
     "data": {
      "image/png": "[encoded data removed]",
      "text/plain": [
       "<matplotlib.figure.Figure at 0x10d849990>"
      ]
     },
     "metadata": {},
     "output_type": "display_data"
    }
   ],
   "source": [
    "x.draw()"
   ]
  },
  {
   "cell_type": "code",
   "execution_count": 35,
   "metadata": {
    "collapsed": false
   },
   "outputs": [
    {
     "data": {
      "text/plain": [
       "[('P9', {'n': 10}),\n",
       " ('P1', {'n': 10}),\n",
       " ('P3', {'n': 10}),\n",
       " ('P0', {'n': 10}),\n",
       " ('P5', {'n': 10}),\n",
       " ('P8', {'n': 10}),\n",
       " ('P6', {'n': 10}),\n",
       " ('P7', {'n': 10}),\n",
       " ('P4', {'n': 10}),\n",
       " ('P2', {'n': 10})]"
      ]
     },
     "execution_count": 35,
     "metadata": {},
     "output_type": "execute_result"
    }
   ],
   "source": [
    "x.state()"
   ]
  },
  {
   "cell_type": "code",
   "execution_count": 36,
   "metadata": {
    "collapsed": false
   },
   "outputs": [
    {
     "name": "stdout",
     "output_type": "stream",
     "text": [
      "--------------\n",
      "Running LCR on\n",
      "[P9 -> {P1, P2}, P1 -> {P3, P9}, P3 -> {P0, P1}, P0 -> {P5, P3}, P5 -> {P8, P0}, P8 -> {P6, P5}, P6 -> {P7, P8}, P7 -> {P4, P6}, P4 -> {P2, P7}, P2 -> {P9, P4}]\n",
      "Round 1\n",
      "P1.status is non-leader\n",
      "P0.status is non-leader\n",
      "P5.status is non-leader\n",
      "P6.status is non-leader\n",
      "P2.status is non-leader\n",
      "Round 2\n",
      "P3.status is non-leader\n",
      "P4.status is non-leader\n",
      "Round 3\n",
      "P7.status is non-leader\n",
      "Round 4\n",
      "Round 5\n",
      "P8.status is non-leader\n",
      "Round 6\n",
      "Round 7\n",
      "Round 8\n",
      "Round 9\n",
      "Round 10\n",
      "P9.status is leader\n",
      "LCR Terminated\n",
      "Message Complexity: 28\n",
      "Time Complexity: 10\n",
      "-------------------\n"
     ]
    },
    {
     "data": {
      "text/plain": [
       "<datk.core.algs.LCR instance at 0x10d85ca28>"
      ]
     },
     "execution_count": 36,
     "metadata": {},
     "output_type": "execute_result"
    }
   ],
   "source": [
    "SynchTimeSlice(x)"
   ]
  },
  {
   "cell_type": "code",
   "execution_count": 37,
   "metadata": {
    "collapsed": false
   },
   "outputs": [
    {
     "data": {
      "image/png": "[encoded data removed]",
      "text/plain": [
       "<matplotlib.figure.Figure at 0x10d889210>"
      ]
     },
     "metadata": {},
     "output_type": "display_data"
    }
   ],
   "source": [
    "x.draw()"
   ]
  },
  {
   "cell_type": "code",
   "execution_count": 38,
   "metadata": {
    "collapsed": false
   },
   "outputs": [
    {
     "data": {
      "text/plain": [
       "[('P9', {'n': 10, 'status': 'leader'}),\n",
       " ('P1', {'n': 10, 'status': 'non-leader'}),\n",
       " ('P3', {'n': 10, 'status': 'non-leader'}),\n",
       " ('P0', {'n': 10, 'status': 'non-leader'}),\n",
       " ('P5', {'n': 10, 'status': 'non-leader'}),\n",
       " ('P8', {'n': 10, 'status': 'non-leader'}),\n",
       " ('P6', {'n': 10, 'status': 'non-leader'}),\n",
       " ('P7', {'n': 10, 'status': 'non-leader'}),\n",
       " ('P4', {'n': 10, 'status': 'non-leader'}),\n",
       " ('P2', {'n': 10, 'status': 'non-leader'})]"
      ]
     },
     "execution_count": 38,
     "metadata": {},
     "output_type": "execute_result"
    }
   ],
   "source": [
    "x.state()"
   ]
  },
  {
   "cell_type": "code",
   "execution_count": 39,
   "metadata": {
    "collapsed": false
   },
   "outputs": [],
   "source": [
    "assertLeaderElection(x)"
   ]
  },
  {
   "cell_type": "code",
   "execution_count": null,
   "metadata": {
    "collapsed": false
   },
   "outputs": [],
   "source": []
  },
  {
   "cell_type": "code",
   "execution_count": null,
   "metadata": {
    "collapsed": true
   },
   "outputs": [],
   "source": []
  }
 ],
 "metadata": {
  "kernelspec": {
   "display_name": "Python 2",
   "language": "python",
   "name": "python2"
  },
  "language_info": {
   "codemirror_mode": {
    "name": "ipython",
    "version": 2
   },
   "file_extension": ".py",
   "mimetype": "text/x-python",
   "name": "python",
   "nbconvert_exporter": "python",
   "pygments_lexer": "ipython2",
   "version": "2.7.11"
  }
 },
 "nbformat": 4,
 "nbformat_minor": 0
}
